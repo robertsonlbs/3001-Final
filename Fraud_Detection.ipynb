{
 "cells": [
  {
   "cell_type": "markdown",
   "id": "6620022f-f38f-461c-985b-f52312aa9f5a",
   "metadata": {},
   "source": [
    "## 3001 Final Project - Car Insurance Fraud Detection"
   ]
  },
  {
   "cell_type": "code",
   "execution_count": 1,
   "id": "8b69ff24-4cf8-470e-87c4-316829e3df3d",
   "metadata": {},
   "outputs": [],
   "source": [
    "from sklearn.model_selection import train_test_split\n",
    "from sklearn.model_selection import GridSearchCV\n",
    "from sklearn.preprocessing import StandardScaler, OneHotEncoder\n",
    "from sklearn.impute import SimpleImputer\n",
    "from sklearn.compose import ColumnTransformer\n",
    "from sklearn.pipeline import Pipeline\n",
    "from sklearn.linear_model import LogisticRegression\n",
    "from sklearn.svm import LinearSVC\n",
    "from sklearn.ensemble import RandomForestClassifier\n",
    "from sklearn.ensemble import AdaBoostClassifier\n",
    "from sklearn.tree import DecisionTreeClassifier\n",
    "from sklearn.metrics import confusion_matrix, ConfusionMatrixDisplay\n",
    "from sklearn.metrics import classification_report\n",
    "import matplotlib.pyplot as plt\n",
    "import pandas as pd\n",
    "import numpy as np"
   ]
  },
  {
   "cell_type": "markdown",
   "id": "a8fbcc10-7b98-477f-818d-1aebe15ff997",
   "metadata": {},
   "source": [
    "***\n",
    "### Exploratory Data Analysis"
   ]
  },
  {
   "cell_type": "code",
   "execution_count": 2,
   "id": "1ecf706c-8d24-4159-bf44-f3594562f1b6",
   "metadata": {},
   "outputs": [],
   "source": [
    "data = pd.read_csv('insurance_fraud.csv')"
   ]
  },
  {
   "cell_type": "markdown",
   "id": "9cdc770b-e569-494c-a65f-b917f7586abf",
   "metadata": {},
   "source": [
    "#### Column Features"
   ]
  },
  {
   "cell_type": "code",
   "execution_count": 3,
   "id": "b55ef2d3-be8a-4305-b765-f23a2c963d60",
   "metadata": {},
   "outputs": [
    {
     "name": "stdout",
     "output_type": "stream",
     "text": [
      "<class 'pandas.core.frame.DataFrame'>\n",
      "RangeIndex: 17998 entries, 0 to 17997\n",
      "Data columns (total 25 columns):\n",
      " #   Column                   Non-Null Count  Dtype  \n",
      "---  ------                   --------------  -----  \n",
      " 0   claim_number             17998 non-null  int64  \n",
      " 1   age_of_driver            17998 non-null  int64  \n",
      " 2   gender                   17998 non-null  object \n",
      " 3   marital_status           17993 non-null  float64\n",
      " 4   safty_rating             17998 non-null  int64  \n",
      " 5   annual_income            17998 non-null  int64  \n",
      " 6   high_education_ind       17998 non-null  int64  \n",
      " 7   address_change_ind       17998 non-null  int64  \n",
      " 8   living_status            17998 non-null  object \n",
      " 9   zip_code                 17998 non-null  int64  \n",
      " 10  claim_date               17998 non-null  object \n",
      " 11  claim_day_of_week        17998 non-null  object \n",
      " 12  accident_site            17998 non-null  object \n",
      " 13  past_num_of_claims       17998 non-null  int64  \n",
      " 14  witness_present_ind      17866 non-null  float64\n",
      " 15  liab_prct                17998 non-null  int64  \n",
      " 16  channel                  17998 non-null  object \n",
      " 17  policy_report_filed_ind  17998 non-null  int64  \n",
      " 18  claim_est_payout         17981 non-null  float64\n",
      " 19  age_of_vehicle           17990 non-null  float64\n",
      " 20  vehicle_category         17998 non-null  object \n",
      " 21  vehicle_price            17998 non-null  float64\n",
      " 22  vehicle_color            17998 non-null  object \n",
      " 23  vehicle_weight           17998 non-null  float64\n",
      " 24  fraud                    17998 non-null  int64  \n",
      "dtypes: float64(6), int64(11), object(8)\n",
      "memory usage: 3.4+ MB\n"
     ]
    }
   ],
   "source": [
    "data.info()"
   ]
  },
  {
   "cell_type": "markdown",
   "id": "02a4dff9-0ba8-47c5-8db2-06996c74cb25",
   "metadata": {},
   "source": [
    "> Since claim_number column does not contain predictive information regarding the fraud indicator, we could safely drop the column; We lack the tools to extract useful geographical information from the zip_code column. To avoid a sparse matrix at training and introducing noise into our model, we drop the zip_code column; Likewise, we are not going to work with time-series data, plus we have the day of week information, so we drop the claim_data columns."
   ]
  },
  {
   "cell_type": "code",
   "execution_count": 4,
   "id": "98e38f81-5582-4d47-a02b-215d1884524b",
   "metadata": {},
   "outputs": [],
   "source": [
    "data.drop(columns=['claim_number','zip_code', 'claim_date'], inplace=True)"
   ]
  },
  {
   "cell_type": "markdown",
   "id": "a34c2e0e-b84c-4e81-aabb-5e569b05595c",
   "metadata": {},
   "source": [
    "#### Missing Values"
   ]
  },
  {
   "cell_type": "code",
   "execution_count": 5,
   "id": "15a286bb-e31e-41d5-81a3-7d68c45d4f31",
   "metadata": {},
   "outputs": [
    {
     "data": {
      "text/plain": [
       "age_of_driver                0\n",
       "gender                       0\n",
       "marital_status               5\n",
       "safty_rating                 0\n",
       "annual_income                0\n",
       "high_education_ind           0\n",
       "address_change_ind           0\n",
       "living_status                0\n",
       "claim_day_of_week            0\n",
       "accident_site                0\n",
       "past_num_of_claims           0\n",
       "witness_present_ind        132\n",
       "liab_prct                    0\n",
       "channel                      0\n",
       "policy_report_filed_ind      0\n",
       "claim_est_payout            17\n",
       "age_of_vehicle               8\n",
       "vehicle_category             0\n",
       "vehicle_price                0\n",
       "vehicle_color                0\n",
       "vehicle_weight               0\n",
       "fraud                        0\n",
       "dtype: int64"
      ]
     },
     "execution_count": 5,
     "metadata": {},
     "output_type": "execute_result"
    }
   ],
   "source": [
    "data.isna().sum(axis=0)"
   ]
  },
  {
   "cell_type": "markdown",
   "id": "bdaddec7-dcbb-49bd-b45b-e04caec830e9",
   "metadata": {},
   "source": [
    "> The dataset does not have many missing values, so we intend to use the sklearn.impute.SimpleImputer package to fill the missing values. More specifically, for marital_status, claim_est_payout, and age_of_vehicle, we would replace missing values using the median along each column. For witness_present_id, since it has far more missing values than other columns and the missing value itself contains some information regarding whether the insurance claim is fraudulent, we decide to fill the NaN with 'Missing_witness_ind' "
   ]
  },
  {
   "cell_type": "code",
   "execution_count": 6,
   "id": "5faa6d66-1d83-4c8f-a65d-9c89fe1d64bf",
   "metadata": {},
   "outputs": [],
   "source": [
    "def witness_column_transform(x):\n",
    "    if x == 1:\n",
    "        return 'Has_witness'\n",
    "    elif x == 0:\n",
    "        return 'No_witness'\n",
    "    else:\n",
    "        return 'Missing_witness'\n",
    "data['witness_present_ind'] = data['witness_present_ind'].map(witness_column_transform)"
   ]
  },
  {
   "cell_type": "markdown",
   "id": "df11c307-da39-48cf-b5fe-b8f2d79ae0b6",
   "metadata": {},
   "source": [
    "***\n",
    "### Create Pipeline"
   ]
  },
  {
   "cell_type": "markdown",
   "id": "d3e4ed87-64f3-4788-adf1-bc36a020e753",
   "metadata": {},
   "source": [
    "#### Split Data"
   ]
  },
  {
   "cell_type": "code",
   "execution_count": 7,
   "id": "6b395024-6d36-484a-882b-c35ad3ba1cdb",
   "metadata": {},
   "outputs": [],
   "source": [
    "X = data.drop('fraud',axis=1)\n",
    "y = data['fraud']\n",
    "X_train, X_test, y_train, y_test = train_test_split(X, y, test_size=0.2, random_state=5)"
   ]
  },
  {
   "cell_type": "markdown",
   "id": "138c9776-1d4d-4934-8b60-ef9ca53f1055",
   "metadata": {},
   "source": [
    "#### Preprocessor"
   ]
  },
  {
   "cell_type": "code",
   "execution_count": 8,
   "id": "734d7f90-d1a3-4545-9beb-731555b2ebce",
   "metadata": {},
   "outputs": [],
   "source": [
    "numeric_transformer = Pipeline(steps=[\n",
    "    ('imputer', SimpleImputer(strategy='median'))\n",
    "    ,('scaler', StandardScaler())\n",
    "])\n",
    "categorical_transformer = Pipeline(steps=[\n",
    "    ('encoder', OneHotEncoder(drop='first'))\n",
    "])\n",
    "# mariatal_status is an indicator variable with missing values\n",
    "marital_status_transformer = Pipeline(steps=[\n",
    "    ('imputer', SimpleImputer(strategy='median'))\n",
    "])"
   ]
  },
  {
   "cell_type": "code",
   "execution_count": 9,
   "id": "64a541be-e619-4384-9e2f-95a1ef4d7f0c",
   "metadata": {},
   "outputs": [],
   "source": [
    "# extract the numerical features\n",
    "numerical_features = list(X.select_dtypes(include=['int64','float64']).columns)\n",
    "# exclude indicators \n",
    "to_exclude = ['marital_status','high_education_ind','address_change_ind','policy_report_filed_ind']\n",
    "for i in to_exclude:\n",
    "    numerical_features.remove(i)\n",
    "    \n",
    "# extract the categorical features\n",
    "categorical_features = list(X.select_dtypes(include=['object']).columns)\n",
    "\n",
    "# marital_status\n",
    "marital_status_feature = ['marital_status']"
   ]
  },
  {
   "cell_type": "code",
   "execution_count": 10,
   "id": "d9f0dd82-897a-4e1e-be3f-9e5ba6c63088",
   "metadata": {},
   "outputs": [],
   "source": [
    "preprocessor = ColumnTransformer(\n",
    "   transformers=[\n",
    "       ('numerical', numeric_transformer, numerical_features)\n",
    "       ,('categorical', categorical_transformer, categorical_features)\n",
    "       ,('marital', marital_status_transformer, marital_status_feature)\n",
    "], remainder='passthrough')"
   ]
  },
  {
   "cell_type": "code",
   "execution_count": 11,
   "id": "53dcc307-9d6e-44d8-b078-ce9b2c35ba49",
   "metadata": {},
   "outputs": [
    {
     "data": {
      "text/plain": [
       "ColumnTransformer(remainder='passthrough',\n",
       "                  transformers=[('numerical',\n",
       "                                 Pipeline(steps=[('imputer',\n",
       "                                                  SimpleImputer(strategy='median')),\n",
       "                                                 ('scaler', StandardScaler())]),\n",
       "                                 ['age_of_driver', 'safty_rating',\n",
       "                                  'annual_income', 'past_num_of_claims',\n",
       "                                  'liab_prct', 'claim_est_payout',\n",
       "                                  'age_of_vehicle', 'vehicle_price',\n",
       "                                  'vehicle_weight']),\n",
       "                                ('categorical',\n",
       "                                 Pipeline(steps=[('encoder',\n",
       "                                                  OneHotEncoder(drop='first'))]),\n",
       "                                 ['gender', 'living_status',\n",
       "                                  'claim_day_of_week', 'accident_site',\n",
       "                                  'witness_present_ind', 'channel',\n",
       "                                  'vehicle_category', 'vehicle_color']),\n",
       "                                ('marital',\n",
       "                                 Pipeline(steps=[('imputer',\n",
       "                                                  SimpleImputer(strategy='median'))]),\n",
       "                                 ['marital_status'])])"
      ]
     },
     "execution_count": 11,
     "metadata": {},
     "output_type": "execute_result"
    }
   ],
   "source": [
    "preprocessor"
   ]
  },
  {
   "cell_type": "markdown",
   "id": "b3411bd1-7f3d-45ab-932d-14d20d32bf13",
   "metadata": {},
   "source": [
    "#### Estimator - Logistic Regression"
   ]
  },
  {
   "cell_type": "code",
   "execution_count": 12,
   "id": "b98eb339-6244-485e-8e90-acece73f2057",
   "metadata": {},
   "outputs": [],
   "source": [
    "pipeline_logisticReg = Pipeline(steps = [\n",
    "    ('preprocessor', preprocessor)\n",
    "    ,('classifier', LogisticRegression())\n",
    "])\n",
    "param_grid_logisticReg = [\n",
    "    {\n",
    "        \"classifier__C\": [0.1, 0.5, 1, 10.0, 50.0],\n",
    "        \"classifier__class_weight\": ['balanced', None]\n",
    "    }\n",
    "]"
   ]
  },
  {
   "cell_type": "code",
   "execution_count": 13,
   "id": "8f9542ae-f420-486f-aec0-38af35dad267",
   "metadata": {},
   "outputs": [
    {
     "data": {
      "text/plain": [
       "''"
      ]
     },
     "execution_count": 13,
     "metadata": {},
     "output_type": "execute_result"
    }
   ],
   "source": [
    "grid_search_logisticReg = GridSearchCV(pipeline_logisticReg, param_grid_logisticReg, scoring='roc_auc', cv=10)\n",
    "grid_search_logisticReg.fit(X_train, y_train)\n",
    "# Hide the ouput using ;\n",
    ";"
   ]
  },
  {
   "cell_type": "code",
   "execution_count": 14,
   "id": "87e0487e-8f04-4912-a953-e5df564ac889",
   "metadata": {},
   "outputs": [
    {
     "name": "stdout",
     "output_type": "stream",
     "text": [
      "{'classifier__C': 10.0, 'classifier__class_weight': None}\n",
      "Best logisticReg auc Score: 0.6995996437435302\n"
     ]
    }
   ],
   "source": [
    "print(grid_search_logisticReg.best_params_)\n",
    "print(f'Best logisticReg auc Score: {grid_search_logisticReg.best_score_}')\n",
    "LR = grid_search_logisticReg.best_estimator_"
   ]
  },
  {
   "cell_type": "markdown",
   "id": "21f33571-391f-43c1-95a5-1bff14e5b358",
   "metadata": {},
   "source": [
    "#### Estimator - SVM"
   ]
  },
  {
   "cell_type": "code",
   "execution_count": 15,
   "id": "e2bccb51-3ceb-45d4-9aa7-f2e321e5dd9c",
   "metadata": {},
   "outputs": [],
   "source": [
    "pipeline_svm = Pipeline(steps = [\n",
    "    ('preprocessor', preprocessor)\n",
    "    ,('classifier', LinearSVC(dual=False))\n",
    "])\n",
    "param_grid_svm = [\n",
    "    {\n",
    "        \"classifier__C\": [0.1, 0.5, 1, 10.0, 50.0],\n",
    "        \"classifier__class_weight\": ['balanced', None]\n",
    "    }\n",
    "]"
   ]
  },
  {
   "cell_type": "code",
   "execution_count": 16,
   "id": "906a83fa-5283-440c-a59c-290f895c6643",
   "metadata": {},
   "outputs": [
    {
     "name": "stdout",
     "output_type": "stream",
     "text": [
      "Fitting 10 folds for each of 10 candidates, totalling 100 fits\n"
     ]
    },
    {
     "data": {
      "text/plain": [
       "''"
      ]
     },
     "execution_count": 16,
     "metadata": {},
     "output_type": "execute_result"
    }
   ],
   "source": [
    "grid_search_svm = GridSearchCV(pipeline_svm, param_grid_svm, scoring='roc_auc', cv=10, verbose=True)\n",
    "grid_search_svm.fit(X_train, y_train)\n",
    "# Hide the ouput using ;\n",
    ";"
   ]
  },
  {
   "cell_type": "code",
   "execution_count": 17,
   "id": "d3f33d63-61ef-48b8-827c-399c5a860fee",
   "metadata": {},
   "outputs": [
    {
     "name": "stdout",
     "output_type": "stream",
     "text": [
      "{'classifier__C': 1, 'classifier__class_weight': None}\n",
      "Best linearSvr auc Score: 0.6990031339886278\n"
     ]
    }
   ],
   "source": [
    "print(grid_search_svm.best_params_)\n",
    "print(f'Best linearSvr auc Score: {grid_search_svm.best_score_}')\n",
    "svm = grid_search_svm.best_estimator_"
   ]
  },
  {
   "cell_type": "markdown",
   "id": "da78a7af-89a8-4957-a92b-5364614bd528",
   "metadata": {},
   "source": [
    "#### Estimator - Random Forest"
   ]
  },
  {
   "cell_type": "code",
   "execution_count": 18,
   "id": "9dd5c981-6889-44ea-8464-e36a05c6a4bc",
   "metadata": {},
   "outputs": [],
   "source": [
    "pipeline_rf = Pipeline(steps = [\n",
    "    ('preprocessor', preprocessor)\n",
    "    ,('classifier', RandomForestClassifier(max_features='sqrt'))\n",
    "])\n",
    "param_grid_rf = [\n",
    "    {\n",
    "        \"classifier__n_estimators\": [100,200],\n",
    "        \"classifier__max_depth\": [10,20,40]\n",
    "    }\n",
    "]"
   ]
  },
  {
   "cell_type": "code",
   "execution_count": 19,
   "id": "8a873873-5df5-4a23-9480-28f01529d7ad",
   "metadata": {},
   "outputs": [
    {
     "name": "stdout",
     "output_type": "stream",
     "text": [
      "Fitting 10 folds for each of 6 candidates, totalling 60 fits\n"
     ]
    },
    {
     "data": {
      "text/plain": [
       "''"
      ]
     },
     "execution_count": 19,
     "metadata": {},
     "output_type": "execute_result"
    }
   ],
   "source": [
    "grid_search_rf = GridSearchCV(pipeline_rf, param_grid_rf, scoring='roc_auc', cv=10, verbose=True)\n",
    "grid_search_rf.fit(X_train, y_train)\n",
    "# Hide the ouput using ;\n",
    ";"
   ]
  },
  {
   "cell_type": "code",
   "execution_count": 20,
   "id": "29341ddd-8ed3-45ef-a374-116d2f5856ae",
   "metadata": {},
   "outputs": [
    {
     "name": "stdout",
     "output_type": "stream",
     "text": [
      "{'classifier__max_depth': 10, 'classifier__n_estimators': 200}\n",
      "Best rf auc Score: 0.6989891277305494\n"
     ]
    }
   ],
   "source": [
    "print(grid_search_rf.best_params_)\n",
    "print(f'Best rf auc Score: {grid_search_rf.best_score_}')\n",
    "rf = grid_search_rf.best_estimator_"
   ]
  },
  {
   "cell_type": "markdown",
   "id": "323ada9d-c760-4415-9822-b8e3082e1dd9",
   "metadata": {},
   "source": [
    "#### Estimator - Adaboost"
   ]
  },
  {
   "cell_type": "code",
   "execution_count": 21,
   "id": "4c9389c1-c0aa-4f58-8836-5699b05b2a12",
   "metadata": {},
   "outputs": [],
   "source": [
    "base_tree = DecisionTreeClassifier(max_depth=1)\n",
    "\n",
    "pipeline_Ada = Pipeline(steps = [\n",
    "    ('preprocessor', preprocessor)\n",
    "    ,('classifier', AdaBoostClassifier(base_estimator=base_tree))\n",
    "])\n",
    "param_grid_Ada = [\n",
    "    {  \"classifier__base_estimator__max_depth\":[1,2],\n",
    "        \"classifier__n_estimators\": [100,200],\n",
    "        \"classifier__learning_rate\": [0.5,1,1.5]\n",
    "    }\n",
    "]"
   ]
  },
  {
   "cell_type": "code",
   "execution_count": 22,
   "id": "7bb09397-41fb-4e6b-a25e-cf15433a64c6",
   "metadata": {},
   "outputs": [
    {
     "name": "stdout",
     "output_type": "stream",
     "text": [
      "Fitting 10 folds for each of 12 candidates, totalling 120 fits\n"
     ]
    },
    {
     "data": {
      "text/plain": [
       "''"
      ]
     },
     "execution_count": 22,
     "metadata": {},
     "output_type": "execute_result"
    }
   ],
   "source": [
    "grid_search_Ada = GridSearchCV(pipeline_Ada, param_grid_Ada, scoring='roc_auc', cv=10, verbose=True)\n",
    "grid_search_Ada.fit(X_train, y_train)\n",
    "# Hide the ouput using ;\n",
    ";"
   ]
  },
  {
   "cell_type": "code",
   "execution_count": 23,
   "id": "b97fe5ae-40ea-4e51-a321-1113fcf0c501",
   "metadata": {},
   "outputs": [
    {
     "name": "stdout",
     "output_type": "stream",
     "text": [
      "{'classifier__base_estimator__max_depth': 1, 'classifier__learning_rate': 0.5, 'classifier__n_estimators': 100}\n",
      "Best ada auc Score: 0.7198522839537103\n"
     ]
    }
   ],
   "source": [
    "print(grid_search_Ada.best_params_)\n",
    "print(f'Best ada auc Score: {grid_search_Ada.best_score_}')\n",
    "Ada = grid_search_Ada.best_estimator_"
   ]
  },
  {
   "cell_type": "markdown",
   "id": "69e869aa-1816-4688-93f4-1a308b2b794c",
   "metadata": {
    "tags": []
   },
   "source": [
    "#### Output Data For Experiment Use"
   ]
  },
  {
   "cell_type": "code",
   "execution_count": 24,
   "id": "268d7265-d63f-4a30-83ac-3f976cc45df2",
   "metadata": {},
   "outputs": [],
   "source": [
    "x_train_data = preprocessor.fit_transform(X_train)\n",
    "x_test_data = preprocessor.transform(X_test)"
   ]
  },
  {
   "cell_type": "code",
   "execution_count": 25,
   "id": "4553c8d6-dc55-4400-a9ad-9ff5d0293d44",
   "metadata": {},
   "outputs": [],
   "source": [
    "training_data = np.hstack((x_train_data,np.array(y_train).reshape(-1,1)))\n",
    "testing_data = np.hstack((x_test_data,np.array(y_test).reshape(-1,1)))\n",
    "np.savetxt(\"data/training.txt\", training_data)\n",
    "np.savetxt(\"data/testing.txt\", testing_data)"
   ]
  },
  {
   "cell_type": "markdown",
   "id": "7fc25af7-412e-4103-91e0-b810ae04d5c0",
   "metadata": {},
   "source": [
    "***\n",
    "### Evaluation on Testing"
   ]
  },
  {
   "cell_type": "code",
   "execution_count": 26,
   "id": "583f5b70-a00b-4e64-b106-1a5eedd96a6c",
   "metadata": {},
   "outputs": [],
   "source": [
    "Models = {'logisticReg':LR, 'SVM':svm, 'randomForest':rf, 'AdaBoost':Ada}"
   ]
  },
  {
   "cell_type": "code",
   "execution_count": 27,
   "id": "e6cec3fe-7332-495c-9388-6f27c9e9bebb",
   "metadata": {},
   "outputs": [
    {
     "name": "stdout",
     "output_type": "stream",
     "text": [
      "              precision    recall  f1-score   support\n",
      "\n",
      "           0       0.85      0.99      0.92      3052\n",
      "           1       0.42      0.03      0.06       548\n",
      "\n",
      "    accuracy                           0.85      3600\n",
      "   macro avg       0.64      0.51      0.49      3600\n",
      "weighted avg       0.79      0.85      0.79      3600\n",
      "\n"
     ]
    },
    {
     "data": {
      "image/png": "[encoded data removed]",
      "text/plain": [
       "<Figure size 432x288 with 2 Axes>"
      ]
     },
     "metadata": {
      "needs_background": "light"
     },
     "output_type": "display_data"
    },
    {
     "name": "stdout",
     "output_type": "stream",
     "text": [
      "              precision    recall  f1-score   support\n",
      "\n",
      "           0       0.85      1.00      0.92      3052\n",
      "           1       0.33      0.00      0.01       548\n",
      "\n",
      "    accuracy                           0.85      3600\n",
      "   macro avg       0.59      0.50      0.46      3600\n",
      "weighted avg       0.77      0.85      0.78      3600\n",
      "\n"
     ]
    },
    {
     "data": {
      "image/png": "[encoded data removed]",
      "text/plain": [
       "<Figure size 432x288 with 2 Axes>"
      ]
     },
     "metadata": {
      "needs_background": "light"
     },
     "output_type": "display_data"
    },
    {
     "name": "stdout",
     "output_type": "stream",
     "text": [
      "              precision    recall  f1-score   support\n",
      "\n",
      "           0       0.85      1.00      0.92      3052\n",
      "           1       0.00      0.00      0.00       548\n",
      "\n",
      "    accuracy                           0.85      3600\n",
      "   macro avg       0.42      0.50      0.46      3600\n",
      "weighted avg       0.72      0.85      0.78      3600\n",
      "\n"
     ]
    },
    {
     "name": "stderr",
     "output_type": "stream",
     "text": [
      "/Users/robertson/opt/anaconda3/envs/python38/lib/python3.8/site-packages/sklearn/metrics/_classification.py:1318: UndefinedMetricWarning: Precision and F-score are ill-defined and being set to 0.0 in labels with no predicted samples. Use `zero_division` parameter to control this behavior.\n",
      "  _warn_prf(average, modifier, msg_start, len(result))\n",
      "/Users/robertson/opt/anaconda3/envs/python38/lib/python3.8/site-packages/sklearn/metrics/_classification.py:1318: UndefinedMetricWarning: Precision and F-score are ill-defined and being set to 0.0 in labels with no predicted samples. Use `zero_division` parameter to control this behavior.\n",
      "  _warn_prf(average, modifier, msg_start, len(result))\n",
      "/Users/robertson/opt/anaconda3/envs/python38/lib/python3.8/site-packages/sklearn/metrics/_classification.py:1318: UndefinedMetricWarning: Precision and F-score are ill-defined and being set to 0.0 in labels with no predicted samples. Use `zero_division` parameter to control this behavior.\n",
      "  _warn_prf(average, modifier, msg_start, len(result))\n"
     ]
    },
    {
     "data": {
      "image/png": "[encoded data removed]",
      "text/plain": [
       "<Figure size 432x288 with 2 Axes>"
      ]
     },
     "metadata": {
      "needs_background": "light"
     },
     "output_type": "display_data"
    },
    {
     "name": "stdout",
     "output_type": "stream",
     "text": [
      "              precision    recall  f1-score   support\n",
      "\n",
      "           0       0.85      0.99      0.92      3052\n",
      "           1       0.53      0.03      0.06       548\n",
      "\n",
      "    accuracy                           0.85      3600\n",
      "   macro avg       0.69      0.51      0.49      3600\n",
      "weighted avg       0.80      0.85      0.79      3600\n",
      "\n"
     ]
    },
    {
     "data": {
      "image/png": "[encoded data removed]",
      "text/plain": [
       "<Figure size 432x288 with 2 Axes>"
      ]
     },
     "metadata": {
      "needs_background": "light"
     },
     "output_type": "display_data"
    }
   ],
   "source": [
    "for i in Models.items():\n",
    "    y_preds = i[1].predict(X_test)\n",
    "    print(classification_report(y_test, y_preds))\n",
    "    cm = confusion_matrix(y_test, y_preds)\n",
    "    cmd = ConfusionMatrixDisplay(cm)\n",
    "    cmd.plot()\n",
    "    plt.title(f\"{i[0]} Confusion Matrix\")\n",
    "    plt.show()"
   ]
  },
  {
   "cell_type": "markdown",
   "id": "0643b9c2-6053-4f11-84e9-4dd5a91a98dd",
   "metadata": {},
   "source": [
    "***\n",
    "### SMOTE"
   ]
  },
  {
   "cell_type": "code",
   "execution_count": 28,
   "id": "83b2f27d-840f-4788-9910-d78add78ca27",
   "metadata": {},
   "outputs": [],
   "source": [
    "# conda install -c conda-forge imbalanced-learn"
   ]
  },
  {
   "cell_type": "code",
   "execution_count": 29,
   "id": "8d89735c-f84c-43c5-ba5e-e70a96b72b48",
   "metadata": {},
   "outputs": [],
   "source": [
    "from imblearn.over_sampling import SMOTE\n",
    "from imblearn.pipeline import Pipeline"
   ]
  },
  {
   "cell_type": "code",
   "execution_count": 30,
   "id": "0d05bd38-5316-448e-a1cc-7aa6a12a96c2",
   "metadata": {},
   "outputs": [],
   "source": [
    "training_data = np.loadtxt('data/training.txt')\n",
    "testing_data = np.loadtxt('data/testing.txt')"
   ]
  },
  {
   "cell_type": "code",
   "execution_count": 31,
   "id": "3a858ea7-8775-412a-ae25-e7690003724a",
   "metadata": {},
   "outputs": [],
   "source": [
    "X_train, y_train = training_data[:,:-1], training_data[:,-1]\n",
    "X_test, y_test = testing_data[:,:-1], testing_data[:,-1]"
   ]
  },
  {
   "cell_type": "code",
   "execution_count": 32,
   "id": "556507b0-f9ac-45ef-ac1a-e2b1a09cfced",
   "metadata": {},
   "outputs": [
    {
     "data": {
      "text/plain": [
       "''"
      ]
     },
     "execution_count": 32,
     "metadata": {},
     "output_type": "execute_result"
    }
   ],
   "source": [
    "LR_smote = Pipeline([\n",
    "        ('sampling', SMOTE()),\n",
    "        ('classifier', LogisticRegression())\n",
    "    ])\n",
    "\n",
    "param_grid_logisticReg = [\n",
    "    {\n",
    "        \"classifier__C\": [0.1, 0.5, 1, 10.0, 50.0],\n",
    "        \"classifier__class_weight\": ['balanced', None]\n",
    "    }\n",
    "]\n",
    "\n",
    "grid_search_LR_smote = GridSearchCV(LR_smote, param_grid_logisticReg, scoring='roc_auc', cv=10)\n",
    "grid_search_LR_smote.fit(X_train, y_train)\n",
    "# Hide the ouput using ;\n",
    ";"
   ]
  },
  {
   "cell_type": "code",
   "execution_count": 33,
   "id": "143dde18-5a1e-4679-914e-7ce98f975446",
   "metadata": {},
   "outputs": [
    {
     "name": "stdout",
     "output_type": "stream",
     "text": [
      "{'classifier__C': 50.0, 'classifier__class_weight': 'balanced'}\n",
      "Best logisticReg auc Score: 0.6953464127186594\n"
     ]
    }
   ],
   "source": [
    "print(grid_search_LR_smote.best_params_)\n",
    "print(f'Best logisticReg auc Score: {grid_search_LR_smote.best_score_}')\n",
    "LR_ = grid_search_LR_smote.best_estimator_"
   ]
  },
  {
   "cell_type": "code",
   "execution_count": 34,
   "id": "35398f41-1f00-4f72-8649-bcfa11732831",
   "metadata": {},
   "outputs": [
    {
     "data": {
      "text/plain": [
       "''"
      ]
     },
     "execution_count": 34,
     "metadata": {},
     "output_type": "execute_result"
    }
   ],
   "source": [
    "svm_smote = Pipeline([\n",
    "        ('sampling', SMOTE()),\n",
    "        ('classifier', LinearSVC(dual=False))\n",
    "    ])\n",
    "\n",
    "param_grid_svm = [\n",
    "    {\n",
    "        \"classifier__C\": [0.1, 0.5, 1, 10.0, 50.0],\n",
    "        \"classifier__class_weight\": ['balanced', None]\n",
    "    }\n",
    "]\n",
    "\n",
    "grid_search_svm_smote = GridSearchCV(svm_smote, param_grid_svm, scoring='roc_auc', cv=10)\n",
    "grid_search_svm_smote.fit(X_train, y_train)\n",
    "# Hide the ouput using ;\n",
    ";"
   ]
  },
  {
   "cell_type": "code",
   "execution_count": 35,
   "id": "aac1d484-760a-48b8-96a3-e5cbaa4edc79",
   "metadata": {},
   "outputs": [
    {
     "name": "stdout",
     "output_type": "stream",
     "text": [
      "{'classifier__C': 1, 'classifier__class_weight': None}\n",
      "Best svm_smote auc Score: 0.694993598355862\n"
     ]
    }
   ],
   "source": [
    "print(grid_search_svm_smote.best_params_)\n",
    "print(f'Best svm_smote auc Score: {grid_search_svm_smote.best_score_}')\n",
    "SVM_ = grid_search_svm_smote.best_estimator_"
   ]
  },
  {
   "cell_type": "code",
   "execution_count": 36,
   "id": "c0b38107-a867-47ed-a6cc-eedf6da2bc96",
   "metadata": {},
   "outputs": [
    {
     "data": {
      "text/plain": [
       "''"
      ]
     },
     "execution_count": 36,
     "metadata": {},
     "output_type": "execute_result"
    }
   ],
   "source": [
    "RF_smote = Pipeline([\n",
    "        ('sampling', SMOTE()),\n",
    "        ('classifier', RandomForestClassifier(max_features='sqrt'))\n",
    "    ])\n",
    "\n",
    "param_grid_rf = [\n",
    "    {\n",
    "        \"classifier__n_estimators\": [100,200],\n",
    "        \"classifier__max_depth\": [10,20,40]\n",
    "    }\n",
    "]\n",
    "\n",
    "grid_search_RF_smote = GridSearchCV(RF_smote, param_grid_rf, scoring='roc_auc', cv=10)\n",
    "grid_search_RF_smote.fit(X_train, y_train)\n",
    "# Hide the ouput using ;\n",
    ";"
   ]
  },
  {
   "cell_type": "code",
   "execution_count": 37,
   "id": "27a43b29-f25e-4ece-b748-7deb453ca05b",
   "metadata": {},
   "outputs": [
    {
     "name": "stdout",
     "output_type": "stream",
     "text": [
      "{'classifier__max_depth': 10, 'classifier__n_estimators': 200}\n",
      "Best RF_smote auc Score: 0.689581314121898\n"
     ]
    }
   ],
   "source": [
    "print(grid_search_RF_smote.best_params_)\n",
    "print(f'Best RF_smote auc Score: {grid_search_RF_smote.best_score_}')\n",
    "RF_ = grid_search_RF_smote.best_estimator_"
   ]
  },
  {
   "cell_type": "code",
   "execution_count": 38,
   "id": "3ff3d317-aa87-4383-8cc7-6c85df0c590f",
   "metadata": {},
   "outputs": [],
   "source": [
    "base_tree = DecisionTreeClassifier(max_depth=1)\n",
    "Ada_smote = Pipeline([\n",
    "        ('sampling', SMOTE()),\n",
    "        ('classifier', AdaBoostClassifier(base_estimator=base_tree))\n",
    "    ])\n",
    "\n",
    "param_grid_Ada = [\n",
    "    {  \"classifier__base_estimator__max_depth\":[1,2],\n",
    "        \"classifier__n_estimators\": [100,200],\n",
    "        \"classifier__learning_rate\": [0.5,1,1.5]\n",
    "    }\n",
    "]"
   ]
  },
  {
   "cell_type": "code",
   "execution_count": 39,
   "id": "44c1f3e3-8795-4876-9a5f-dc1250d442fc",
   "metadata": {},
   "outputs": [
    {
     "name": "stdout",
     "output_type": "stream",
     "text": [
      "Fitting 10 folds for each of 12 candidates, totalling 120 fits\n"
     ]
    },
    {
     "data": {
      "text/plain": [
       "''"
      ]
     },
     "execution_count": 39,
     "metadata": {},
     "output_type": "execute_result"
    }
   ],
   "source": [
    "grid_search_Ada_smote = GridSearchCV(Ada_smote, param_grid_Ada, scoring='roc_auc', cv=10, verbose=True)\n",
    "grid_search_Ada_smote.fit(X_train, y_train)\n",
    "# Hide the ouput using ;\n",
    ";"
   ]
  },
  {
   "cell_type": "code",
   "execution_count": 40,
   "id": "f57410f1-2261-455f-992b-b9d8425e1d54",
   "metadata": {},
   "outputs": [
    {
     "name": "stdout",
     "output_type": "stream",
     "text": [
      "{'classifier__base_estimator__max_depth': 1, 'classifier__learning_rate': 1, 'classifier__n_estimators': 200}\n",
      "Best Ada_smote auc Score: 0.7156977740687727\n"
     ]
    }
   ],
   "source": [
    "print(grid_search_Ada_smote.best_params_)\n",
    "print(f'Best Ada_smote auc Score: {grid_search_Ada_smote.best_score_}')\n",
    "Ada_ = grid_search_Ada_smote.best_estimator_"
   ]
  },
  {
   "cell_type": "code",
   "execution_count": null,
   "id": "28172510-0a27-4d0a-aa8e-ec0c87657fbf",
   "metadata": {},
   "outputs": [],
   "source": []
  },
  {
   "cell_type": "code",
   "execution_count": 41,
   "id": "2015a5f8-00a6-4e1c-9161-9aa07003720f",
   "metadata": {},
   "outputs": [],
   "source": [
    "Models_smote = {'logisticReg_smote':LR_, 'SVM_smomte':SVM_, 'randomForest_smote':RF_, 'AdaBoost_smote':Ada_}"
   ]
  },
  {
   "cell_type": "code",
   "execution_count": 42,
   "id": "240c4ef3-2b25-4ec6-8340-6d338e230054",
   "metadata": {},
   "outputs": [
    {
     "name": "stdout",
     "output_type": "stream",
     "text": [
      "              precision    recall  f1-score   support\n",
      "\n",
      "         0.0       0.91      0.63      0.74      3052\n",
      "         1.0       0.24      0.66      0.35       548\n",
      "\n",
      "    accuracy                           0.63      3600\n",
      "   macro avg       0.58      0.64      0.55      3600\n",
      "weighted avg       0.81      0.63      0.68      3600\n",
      "\n"
     ]
    },
    {
     "data": {
      "image/png": "[encoded data removed]",
      "text/plain": [
       "<Figure size 432x288 with 2 Axes>"
      ]
     },
     "metadata": {
      "needs_background": "light"
     },
     "output_type": "display_data"
    },
    {
     "name": "stdout",
     "output_type": "stream",
     "text": [
      "              precision    recall  f1-score   support\n",
      "\n",
      "         0.0       0.91      0.63      0.74      3052\n",
      "         1.0       0.24      0.65      0.35       548\n",
      "\n",
      "    accuracy                           0.63      3600\n",
      "   macro avg       0.57      0.64      0.55      3600\n",
      "weighted avg       0.81      0.63      0.68      3600\n",
      "\n"
     ]
    },
    {
     "data": {
      "image/png": "[encoded data removed]",
      "text/plain": [
       "<Figure size 432x288 with 2 Axes>"
      ]
     },
     "metadata": {
      "needs_background": "light"
     },
     "output_type": "display_data"
    },
    {
     "name": "stdout",
     "output_type": "stream",
     "text": [
      "              precision    recall  f1-score   support\n",
      "\n",
      "         0.0       0.86      0.94      0.90      3052\n",
      "         1.0       0.34      0.18      0.23       548\n",
      "\n",
      "    accuracy                           0.82      3600\n",
      "   macro avg       0.60      0.56      0.57      3600\n",
      "weighted avg       0.78      0.82      0.80      3600\n",
      "\n"
     ]
    },
    {
     "data": {
      "image/png": "[encoded data removed]",
      "text/plain": [
       "<Figure size 432x288 with 2 Axes>"
      ]
     },
     "metadata": {
      "needs_background": "light"
     },
     "output_type": "display_data"
    },
    {
     "name": "stdout",
     "output_type": "stream",
     "text": [
      "              precision    recall  f1-score   support\n",
      "\n",
      "         0.0       0.86      0.98      0.91      3052\n",
      "         1.0       0.46      0.11      0.18       548\n",
      "\n",
      "    accuracy                           0.84      3600\n",
      "   macro avg       0.66      0.54      0.55      3600\n",
      "weighted avg       0.80      0.84      0.80      3600\n",
      "\n"
     ]
    },
    {
     "data": {
      "image/png": "[encoded data removed]",
      "text/plain": [
       "<Figure size 432x288 with 2 Axes>"
      ]
     },
     "metadata": {
      "needs_background": "light"
     },
     "output_type": "display_data"
    }
   ],
   "source": [
    "for i in Models_smote.items():\n",
    "    y_preds = i[1].predict(X_test)\n",
    "    print(classification_report(y_test, y_preds))\n",
    "    cm = confusion_matrix(y_test, y_preds)\n",
    "    cmd = ConfusionMatrixDisplay(cm)\n",
    "    cmd.plot()\n",
    "    plt.title(f\"{i[0]} Confusion Matrix\")\n",
    "    plt.show()"
   ]
  },
  {
   "cell_type": "code",
   "execution_count": null,
   "id": "78489557-e4da-46fe-b76b-b8f8e5dc2a17",
   "metadata": {},
   "outputs": [],
   "source": []
  }
 ],
 "metadata": {
  "kernelspec": {
   "display_name": "Python 3 (ipykernel)",
   "language": "python",
   "name": "python3"
  },
  "language_info": {
   "codemirror_mode": {
    "name": "ipython",
    "version": 3
   },
   "file_extension": ".py",
   "mimetype": "text/x-python",
   "name": "python",
   "nbconvert_exporter": "python",
   "pygments_lexer": "ipython3",
   "version": "3.8.2"
  }
 },
 "nbformat": 4,
 "nbformat_minor": 5
}
