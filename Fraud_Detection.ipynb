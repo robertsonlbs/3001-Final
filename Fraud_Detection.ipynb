{
 "cells": [
  {
   "cell_type": "markdown",
   "id": "6620022f-f38f-461c-985b-f52312aa9f5a",
   "metadata": {},
   "source": [
    "## 3001 Final Project - Car Insurance Fraud Detection"
   ]
  },
  {
   "cell_type": "code",
   "execution_count": 1,
   "id": "8b69ff24-4cf8-470e-87c4-316829e3df3d",
   "metadata": {},
   "outputs": [],
   "source": [
    "from sklearn.model_selection import train_test_split\n",
    "from sklearn.model_selection import GridSearchCV\n",
    "from sklearn.preprocessing import StandardScaler, OneHotEncoder\n",
    "from sklearn.impute import SimpleImputer\n",
    "from sklearn.compose import ColumnTransformer\n",
    "from sklearn.pipeline import Pipeline\n",
    "from sklearn.linear_model import LogisticRegression\n",
    "from sklearn.svm import LinearSVC\n",
    "from sklearn.ensemble import RandomForestClassifier\n",
    "from sklearn.metrics import confusion_matrix, ConfusionMatrixDisplay\n",
    "import matplotlib.pyplot as plt\n",
    "import pandas as pd\n",
    "import numpy as np"
   ]
  },
  {
   "cell_type": "markdown",
   "id": "a8fbcc10-7b98-477f-818d-1aebe15ff997",
   "metadata": {},
   "source": [
    "***\n",
    "### Exploratory Data Analysis"
   ]
  },
  {
   "cell_type": "code",
   "execution_count": 2,
   "id": "1ecf706c-8d24-4159-bf44-f3594562f1b6",
   "metadata": {},
   "outputs": [],
   "source": [
    "data = pd.read_csv('insurance_fraud.csv')"
   ]
  },
  {
   "cell_type": "markdown",
   "id": "9cdc770b-e569-494c-a65f-b917f7586abf",
   "metadata": {},
   "source": [
    "#### Column Features"
   ]
  },
  {
   "cell_type": "code",
   "execution_count": 3,
   "id": "b55ef2d3-be8a-4305-b765-f23a2c963d60",
   "metadata": {},
   "outputs": [
    {
     "name": "stdout",
     "output_type": "stream",
     "text": [
      "<class 'pandas.core.frame.DataFrame'>\n",
      "RangeIndex: 17998 entries, 0 to 17997\n",
      "Data columns (total 25 columns):\n",
      " #   Column                   Non-Null Count  Dtype  \n",
      "---  ------                   --------------  -----  \n",
      " 0   claim_number             17998 non-null  int64  \n",
      " 1   age_of_driver            17998 non-null  int64  \n",
      " 2   gender                   17998 non-null  object \n",
      " 3   marital_status           17993 non-null  float64\n",
      " 4   safty_rating             17998 non-null  int64  \n",
      " 5   annual_income            17998 non-null  int64  \n",
      " 6   high_education_ind       17998 non-null  int64  \n",
      " 7   address_change_ind       17998 non-null  int64  \n",
      " 8   living_status            17998 non-null  object \n",
      " 9   zip_code                 17998 non-null  int64  \n",
      " 10  claim_date               17998 non-null  object \n",
      " 11  claim_day_of_week        17998 non-null  object \n",
      " 12  accident_site            17998 non-null  object \n",
      " 13  past_num_of_claims       17998 non-null  int64  \n",
      " 14  witness_present_ind      17866 non-null  float64\n",
      " 15  liab_prct                17998 non-null  int64  \n",
      " 16  channel                  17998 non-null  object \n",
      " 17  policy_report_filed_ind  17998 non-null  int64  \n",
      " 18  claim_est_payout         17981 non-null  float64\n",
      " 19  age_of_vehicle           17990 non-null  float64\n",
      " 20  vehicle_category         17998 non-null  object \n",
      " 21  vehicle_price            17998 non-null  float64\n",
      " 22  vehicle_color            17998 non-null  object \n",
      " 23  vehicle_weight           17998 non-null  float64\n",
      " 24  fraud                    17998 non-null  int64  \n",
      "dtypes: float64(6), int64(11), object(8)\n",
      "memory usage: 3.4+ MB\n"
     ]
    }
   ],
   "source": [
    "data.info()"
   ]
  },
  {
   "cell_type": "markdown",
   "id": "02a4dff9-0ba8-47c5-8db2-06996c74cb25",
   "metadata": {},
   "source": [
    "> Since claim_number column does not contain predictive information regarding the fraud indicator, we could safely drop the column; We lack the tools to extract useful geographical information from the zip_code column. To avoid a sparse matrix at training and introducing noise into our model, we drop the zip_code column; Likewise, we are not going to work with time-series data, plus we have the day of week information, so we drop the claim_data columns."
   ]
  },
  {
   "cell_type": "code",
   "execution_count": 4,
   "id": "98e38f81-5582-4d47-a02b-215d1884524b",
   "metadata": {},
   "outputs": [],
   "source": [
    "data.drop(columns=['claim_number','zip_code', 'claim_date'], inplace=True)"
   ]
  },
  {
   "cell_type": "markdown",
   "id": "a34c2e0e-b84c-4e81-aabb-5e569b05595c",
   "metadata": {},
   "source": [
    "#### Missing Values"
   ]
  },
  {
   "cell_type": "code",
   "execution_count": 5,
   "id": "15a286bb-e31e-41d5-81a3-7d68c45d4f31",
   "metadata": {},
   "outputs": [
    {
     "data": {
      "text/plain": [
       "age_of_driver                0\n",
       "gender                       0\n",
       "marital_status               5\n",
       "safty_rating                 0\n",
       "annual_income                0\n",
       "high_education_ind           0\n",
       "address_change_ind           0\n",
       "living_status                0\n",
       "claim_day_of_week            0\n",
       "accident_site                0\n",
       "past_num_of_claims           0\n",
       "witness_present_ind        132\n",
       "liab_prct                    0\n",
       "channel                      0\n",
       "policy_report_filed_ind      0\n",
       "claim_est_payout            17\n",
       "age_of_vehicle               8\n",
       "vehicle_category             0\n",
       "vehicle_price                0\n",
       "vehicle_color                0\n",
       "vehicle_weight               0\n",
       "fraud                        0\n",
       "dtype: int64"
      ]
     },
     "execution_count": 5,
     "metadata": {},
     "output_type": "execute_result"
    }
   ],
   "source": [
    "data.isna().sum(axis=0)"
   ]
  },
  {
   "cell_type": "markdown",
   "id": "bdaddec7-dcbb-49bd-b45b-e04caec830e9",
   "metadata": {},
   "source": [
    "> The dataset does not have many missing values, so we intend to use the sklearn.impute.SimpleImputer package to fill the missing values. More specifically, for marital_status, claim_est_payout, and age_of_vehicle, we would replace missing values using the median along each column. For witness_present_id, since it has far more missing values than other columns and the missing value itself contains some information regarding whether the insurance claim is fraudulent, we decide to fill the NaN with 'Missing_witness_ind' "
   ]
  },
  {
   "cell_type": "code",
   "execution_count": 6,
   "id": "5faa6d66-1d83-4c8f-a65d-9c89fe1d64bf",
   "metadata": {},
   "outputs": [],
   "source": [
    "def witness_column_transform(x):\n",
    "    if x == 1:\n",
    "        return 'Has_witness'\n",
    "    elif x == 0:\n",
    "        return 'No_witness'\n",
    "    else:\n",
    "        return 'Missing_witness'\n",
    "data['witness_present_ind'] = data['witness_present_ind'].map(witness_column_transform)"
   ]
  },
  {
   "cell_type": "markdown",
   "id": "df11c307-da39-48cf-b5fe-b8f2d79ae0b6",
   "metadata": {},
   "source": [
    "***\n",
    "### Create Pipeline"
   ]
  },
  {
   "cell_type": "markdown",
   "id": "d3e4ed87-64f3-4788-adf1-bc36a020e753",
   "metadata": {},
   "source": [
    "#### Split Data"
   ]
  },
  {
   "cell_type": "code",
   "execution_count": 7,
   "id": "6b395024-6d36-484a-882b-c35ad3ba1cdb",
   "metadata": {},
   "outputs": [],
   "source": [
    "X = data.drop('fraud',axis=1)\n",
    "y = data['fraud']\n",
    "X_train, X_test, y_train, y_test = train_test_split(X, y, test_size=0.2, random_state=5)"
   ]
  },
  {
   "cell_type": "markdown",
   "id": "138c9776-1d4d-4934-8b60-ef9ca53f1055",
   "metadata": {},
   "source": [
    "#### Preprocessor"
   ]
  },
  {
   "cell_type": "code",
   "execution_count": 8,
   "id": "734d7f90-d1a3-4545-9beb-731555b2ebce",
   "metadata": {},
   "outputs": [],
   "source": [
    "numeric_transformer = Pipeline(steps=[\n",
    "    ('imputer', SimpleImputer(strategy='median'))\n",
    "    ,('scaler', StandardScaler())\n",
    "])\n",
    "categorical_transformer = Pipeline(steps=[\n",
    "    ('encoder', OneHotEncoder(drop='first'))\n",
    "])\n",
    "# mariatal_status is an indicator variable with missing values\n",
    "marital_status_transformer = Pipeline(steps=[\n",
    "    ('imputer', SimpleImputer(strategy='median'))\n",
    "])"
   ]
  },
  {
   "cell_type": "code",
   "execution_count": 9,
   "id": "64a541be-e619-4384-9e2f-95a1ef4d7f0c",
   "metadata": {},
   "outputs": [],
   "source": [
    "# extract the numerical features\n",
    "numerical_features = list(X.select_dtypes(include=['int64','float64']).columns)\n",
    "# exclude indicators \n",
    "to_exclude = ['marital_status','high_education_ind','address_change_ind','policy_report_filed_ind']\n",
    "for i in to_exclude:\n",
    "    numerical_features.remove(i)\n",
    "    \n",
    "# extract the categorical features\n",
    "categorical_features = list(X.select_dtypes(include=['object']).columns)\n",
    "\n",
    "# marital_status\n",
    "marital_status_feature = ['marital_status']"
   ]
  },
  {
   "cell_type": "code",
   "execution_count": 10,
   "id": "d9f0dd82-897a-4e1e-be3f-9e5ba6c63088",
   "metadata": {},
   "outputs": [],
   "source": [
    "preprocessor = ColumnTransformer(\n",
    "   transformers=[\n",
    "       ('numerical', numeric_transformer, numerical_features)\n",
    "       ,('categorical', categorical_transformer, categorical_features)\n",
    "       ,('marital', marital_status_transformer, marital_status_feature)\n",
    "], remainder='passthrough')"
   ]
  },
  {
   "cell_type": "markdown",
   "id": "b3411bd1-7f3d-45ab-932d-14d20d32bf13",
   "metadata": {},
   "source": [
    "#### Estimator - Logistic Regression"
   ]
  },
  {
   "cell_type": "code",
   "execution_count": 11,
   "id": "b98eb339-6244-485e-8e90-acece73f2057",
   "metadata": {},
   "outputs": [],
   "source": [
    "pipeline_logisticReg = Pipeline(steps = [\n",
    "    ('preprocessor', preprocessor)\n",
    "    ,('classifier', LogisticRegression())\n",
    "])\n",
    "param_grid_logisticReg = [\n",
    "    {\n",
    "        \"classifier__C\": [0.1, 0.5, 1, 10.0, 50.0],\n",
    "        \"classifier__class_weight\": ['balanced', None]\n",
    "    }\n",
    "]"
   ]
  },
  {
   "cell_type": "code",
   "execution_count": 12,
   "id": "8f9542ae-f420-486f-aec0-38af35dad267",
   "metadata": {},
   "outputs": [
    {
     "data": {
      "text/plain": [
       "''"
      ]
     },
     "execution_count": 12,
     "metadata": {},
     "output_type": "execute_result"
    }
   ],
   "source": [
    "grid_search_logisticReg = GridSearchCV(pipeline_logisticReg, param_grid_logisticReg, scoring='roc_auc', cv=10)\n",
    "grid_search_logisticReg.fit(X_train, y_train)\n",
    "# Hide the ouput using ;\n",
    ";"
   ]
  },
  {
   "cell_type": "code",
   "execution_count": 13,
   "id": "87e0487e-8f04-4912-a953-e5df564ac889",
   "metadata": {},
   "outputs": [
    {
     "name": "stdout",
     "output_type": "stream",
     "text": [
      "{'classifier__C': 10.0, 'classifier__class_weight': None}\n",
      "Best logisticReg auc Score: 0.6995996437435302\n"
     ]
    }
   ],
   "source": [
    "print(grid_search_logisticReg.best_params_)\n",
    "print(f'Best logisticReg auc Score: {grid_search_logisticReg.best_score_}')\n",
    "LR = grid_search_logisticReg.best_estimator_"
   ]
  },
  {
   "cell_type": "markdown",
   "id": "21f33571-391f-43c1-95a5-1bff14e5b358",
   "metadata": {},
   "source": [
    "#### Estimator - SVM"
   ]
  },
  {
   "cell_type": "code",
   "execution_count": 14,
   "id": "e2bccb51-3ceb-45d4-9aa7-f2e321e5dd9c",
   "metadata": {},
   "outputs": [],
   "source": [
    "pipeline_svm = Pipeline(steps = [\n",
    "    ('preprocessor', preprocessor)\n",
    "    ,('classifier', LinearSVC(dual=False))\n",
    "])\n",
    "param_grid_svm = [\n",
    "    {\n",
    "        \"classifier__C\": [0.1, 0.5, 1, 10.0, 50.0],\n",
    "        \"classifier__class_weight\": ['balanced', None]\n",
    "    }\n",
    "]"
   ]
  },
  {
   "cell_type": "code",
   "execution_count": 15,
   "id": "906a83fa-5283-440c-a59c-290f895c6643",
   "metadata": {},
   "outputs": [
    {
     "name": "stdout",
     "output_type": "stream",
     "text": [
      "Fitting 10 folds for each of 10 candidates, totalling 100 fits\n"
     ]
    },
    {
     "data": {
      "text/plain": [
       "''"
      ]
     },
     "execution_count": 15,
     "metadata": {},
     "output_type": "execute_result"
    }
   ],
   "source": [
    "grid_search_svm = GridSearchCV(pipeline_svm, param_grid_svm, scoring='roc_auc', cv=10, verbose=True)\n",
    "grid_search_svm.fit(X_train, y_train)\n",
    "# Hide the ouput using ;\n",
    ";"
   ]
  },
  {
   "cell_type": "code",
   "execution_count": 16,
   "id": "d3f33d63-61ef-48b8-827c-399c5a860fee",
   "metadata": {},
   "outputs": [
    {
     "name": "stdout",
     "output_type": "stream",
     "text": [
      "{'classifier__C': 1, 'classifier__class_weight': None}\n",
      "Best linearSvr auc Score: 0.6990031339886278\n"
     ]
    }
   ],
   "source": [
    "print(grid_search_svm.best_params_)\n",
    "print(f'Best linearSvr auc Score: {grid_search_svm.best_score_}')\n",
    "svm = grid_search_svm.best_estimator_"
   ]
  },
  {
   "cell_type": "markdown",
   "id": "da78a7af-89a8-4957-a92b-5364614bd528",
   "metadata": {},
   "source": [
    "#### Estimator - Random Forest"
   ]
  },
  {
   "cell_type": "code",
   "execution_count": 17,
   "id": "9dd5c981-6889-44ea-8464-e36a05c6a4bc",
   "metadata": {},
   "outputs": [],
   "source": [
    "pipeline_rf = Pipeline(steps = [\n",
    "    ('preprocessor', preprocessor)\n",
    "    ,('classifier', RandomForestClassifier(max_features='sqrt'))\n",
    "])\n",
    "param_grid_rf = [\n",
    "    {\n",
    "        \"classifier__n_estimators\": [100,200],\n",
    "        \"classifier__max_depth\": [10,20,40]\n",
    "    }\n",
    "]"
   ]
  },
  {
   "cell_type": "code",
   "execution_count": 18,
   "id": "8a873873-5df5-4a23-9480-28f01529d7ad",
   "metadata": {},
   "outputs": [
    {
     "name": "stdout",
     "output_type": "stream",
     "text": [
      "Fitting 10 folds for each of 6 candidates, totalling 60 fits\n"
     ]
    },
    {
     "data": {
      "text/plain": [
       "''"
      ]
     },
     "execution_count": 18,
     "metadata": {},
     "output_type": "execute_result"
    }
   ],
   "source": [
    "grid_search_rf = GridSearchCV(pipeline_rf, param_grid_rf, scoring='roc_auc', cv=10, verbose=True)\n",
    "grid_search_rf.fit(X_train, y_train)\n",
    "# Hide the ouput using ;\n",
    ";"
   ]
  },
  {
   "cell_type": "code",
   "execution_count": 19,
   "id": "29341ddd-8ed3-45ef-a374-116d2f5856ae",
   "metadata": {},
   "outputs": [
    {
     "name": "stdout",
     "output_type": "stream",
     "text": [
      "{'classifier__max_depth': 10, 'classifier__n_estimators': 200}\n",
      "Best linearSvr auc Score: 0.6989097278668902\n"
     ]
    }
   ],
   "source": [
    "print(grid_search_rf.best_params_)\n",
    "print(f'Best linearSvr auc Score: {grid_search_rf.best_score_}')\n",
    "rf = grid_search_rf.best_estimator_"
   ]
  },
  {
   "cell_type": "markdown",
   "id": "7fc25af7-412e-4103-91e0-b810ae04d5c0",
   "metadata": {},
   "source": [
    "***\n",
    "### Evaluation on Testing"
   ]
  },
  {
   "cell_type": "code",
   "execution_count": 20,
   "id": "583f5b70-a00b-4e64-b106-1a5eedd96a6c",
   "metadata": {},
   "outputs": [],
   "source": [
    "Models = {'logisticReg':LR, 'SVM':svm, 'randomForest':rf}"
   ]
  },
  {
   "cell_type": "code",
   "execution_count": 21,
   "id": "e6cec3fe-7332-495c-9388-6f27c9e9bebb",
   "metadata": {},
   "outputs": [
    {
     "data": {
      "image/png": "[encoded data removed]",
      "text/plain": [
       "<Figure size 432x288 with 2 Axes>"
      ]
     },
     "metadata": {
      "needs_background": "light"
     },
     "output_type": "display_data"
    },
    {
     "data": {
      "image/png": "[encoded data removed]",
      "text/plain": [
       "<Figure size 432x288 with 2 Axes>"
      ]
     },
     "metadata": {
      "needs_background": "light"
     },
     "output_type": "display_data"
    },
    {
     "data": {
      "image/png": "[encoded data removed]",
      "text/plain": [
       "<Figure size 432x288 with 2 Axes>"
      ]
     },
     "metadata": {
      "needs_background": "light"
     },
     "output_type": "display_data"
    }
   ],
   "source": [
    "for i in Models.items():\n",
    "    y_preds = i[1].predict(X_test)\n",
    "    cm = confusion_matrix(y_test, y_preds)\n",
    "    cmd = ConfusionMatrixDisplay(cm)\n",
    "    cmd.plot()\n",
    "    plt.title(f\"{i[0]} Confusion Matrix\")\n",
    "    plt.show()"
   ]
  }
 ],
 "metadata": {
  "kernelspec": {
   "display_name": "Python 3 (ipykernel)",
   "language": "python",
   "name": "python3"
  },
  "language_info": {
   "codemirror_mode": {
    "name": "ipython",
    "version": 3
   },
   "file_extension": ".py",
   "mimetype": "text/x-python",
   "name": "python",
   "nbconvert_exporter": "python",
   "pygments_lexer": "ipython3",
   "version": "3.8.2"
  }
 },
 "nbformat": 4,
 "nbformat_minor": 5
}
